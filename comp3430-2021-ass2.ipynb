{
 "cells": [
  {
   "cell_type": "code",
   "execution_count": 1,
   "id": "778bb04b-0def-436f-a01a-1d7003fa609e",
   "metadata": {},
   "outputs": [],
   "source": [
    "import numpy as np\n",
    "import pandas as pd\n",
    "import math\n",
    "from scipy import stats\n",
    "import matplotlib.pyplot as plt\n",
    "import seaborn as sns\n",
    "from sklearn.preprocessing import MinMaxScaler\n",
    "pd.options.display.max_columns = None\n",
    "\n",
    "import warnings\n",
    "warnings.filterwarnings(\"ignore\")"
   ]
  },
  {
   "cell_type": "code",
   "execution_count": 2,
   "id": "100ece4a-bcdd-4ecf-9a82-fe8a0f6dc444",
   "metadata": {},
   "outputs": [],
   "source": [
    "df_med = pd.read_csv(\"data_wrangling_medical_2021_u6828533.csv\", dtype={'postcode': str})\n",
    "df_med.first_name.replace(to_replace=np.nan, value='nan*', inplace=True) # First name can be Nan. \n",
    "df_med.last_name.replace(to_replace=np.nan, value='null*', inplace=True) # Last name can be Null.\n",
    "\n",
    "df_edu = pd.read_csv(\"data_wrangling_education_2021_u6828533.csv\", dtype={'postcode': str})\n",
    "df_edu.first_name.replace(to_replace=np.nan, value='nan*', inplace=True) # First name can be Nan.\n",
    "df_edu.last_name.replace(to_replace=np.nan, value='null*', inplace=True) # Last name can be Null."
   ]
  },
  {
   "cell_type": "code",
   "execution_count": 3,
   "id": "c06e59b7-94b8-4a63-87af-e27c4036b2c8",
   "metadata": {},
   "outputs": [],
   "source": [
    "# sort by the number of NaNs of each row in descending order\n",
    "\n",
    "df_med['null_count'] = df_med.isnull().sum(axis=1)\n",
    "df_med=df_med.sort_values('null_count', ascending=True).drop('null_count', axis=1)\n",
    "\n",
    "df_edu['null_count'] = df_edu.isnull().sum(axis=1)\n",
    "df_edu=df_edu.sort_values('null_count', ascending=True).drop('null_count', axis=1)"
   ]
  },
  {
   "cell_type": "code",
   "execution_count": 4,
   "id": "b08ab08a-2fb5-4621-a3b8-f60229777a3d",
   "metadata": {},
   "outputs": [
    {
     "name": "stdout",
     "output_type": "stream",
     "text": [
      "common ssn in both datasets: 16047\n",
      "unique ssn in medical: 3953\n",
      "unique ssn in education: 3194\n"
     ]
    }
   ],
   "source": [
    "# drop rows with duplicate ssn\n",
    "\n",
    "df_med = df_med.drop_duplicates(subset=['ssn'], keep='first')\n",
    "df_edu = df_edu.drop_duplicates(subset=['ssn'], keep='first')\n",
    "\n",
    "df_merge = pd.merge(left=df_med, right=df_edu, how='inner', on='ssn')\n",
    "unique_med = df_med[df_med.ssn.isin(df_edu.ssn) == False]\n",
    "unique_edu = df_edu[df_edu.ssn.isin(df_med.ssn) == False]\n",
    "\n",
    "print(f\"common ssn in both datasets: {len(df_merge)}\")\n",
    "print(f\"unique ssn in medical: {len(unique_med)}\")\n",
    "print(f\"unique ssn in education: {len(unique_edu)}\")"
   ]
  },
  {
   "cell_type": "code",
   "execution_count": 5,
   "id": "d5fff461-2eb6-4188-9828-c21f94cb4ee6",
   "metadata": {},
   "outputs": [
    {
     "name": "stdout",
     "output_type": "stream",
     "text": [
      "first_name: 0\n",
      "middle_name: 2831\n",
      "last_name: 41\n",
      "gender: 1638\n",
      "birth_date: 0\n",
      "street_address: 6875\n",
      "suburb: 6781\n",
      "postcode: 8590\n",
      "state: 2964\n",
      "phone: 8818\n",
      "email: 6848\n"
     ]
    }
   ],
   "source": [
    "def attribute_check(row, attribute):\n",
    "    att_x = attribute + \"_x\"\n",
    "    att_y = attribute + \"_y\"\n",
    "\n",
    "    if pd.isnull(row[att_x]) and pd.isnull(row[att_y]):\n",
    "        return True\n",
    "    if row[att_x] == row[att_y]:\n",
    "        return True\n",
    "    else:\n",
    "        return False\n",
    "\n",
    "for check_attribute in ['first_name', 'middle_name', 'last_name', 'gender', 'birth_date', 'street_address', 'suburb', 'postcode', 'state', 'phone', 'email']:\n",
    "    print(f\"{check_attribute}: {len(df_merge.loc[df_merge.apply(lambda row: attribute_check(row, check_attribute), axis=1) == False])}\")"
   ]
  },
  {
   "cell_type": "code",
   "execution_count": 6,
   "id": "eb071f6f-db5b-41be-a697-cc9e01f8b549",
   "metadata": {},
   "outputs": [],
   "source": [
    "def attribute_update(row, attr):\n",
    "    att_x = attr + \"_x\"\n",
    "    att_y = attr + \"_y\"\n",
    "    if row[att_x] == row[att_y]:\n",
    "        return row[att_x]\n",
    "    elif pd.isnull(row[att_x]):\n",
    "        return row[att_y]\n",
    "    elif pd.isnull(row[att_y]):\n",
    "        return row[att_x]\n",
    "    \n",
    "    elif attr=='email':\n",
    "        if \"@\" not in row[att_x]:\n",
    "            return row[att_y]\n",
    "        if \"@\" not in row[att_y]:\n",
    "            return row[att_x]\n",
    "        \n",
    "    elif row['consultation_timestamp'] >= row['employment_timestamp']:\n",
    "        return row[att_x]\n",
    "    elif row['employment_timestamp'] >= row['consultation_timestamp']:\n",
    "        return row[att_y]\n",
    "    \n",
    "for attribute in ['first_name', 'middle_name', 'last_name', 'gender', 'birth_date', 'street_address', 'suburb', 'postcode', 'state', 'phone', 'email']:\n",
    "    df_merge[attribute] = df_merge.apply(lambda row: attribute_update(row,attribute), axis=1)"
   ]
  },
  {
   "cell_type": "code",
   "execution_count": 7,
   "id": "baded5a8-6ae8-4be2-a1f0-54ecb9e59a28",
   "metadata": {},
   "outputs": [],
   "source": [
    "df_merge = df_merge.rename(columns={\"rec_id_x\": \"rec_id_medical\", \"rec_id_y\": \"rec_id_education\", \"current_age\": \"age_at_employment\"})\n",
    "\n",
    "df_merge = df_merge[['ssn', 'rec_id_medical', 'rec_id_education', \n",
    "                     'first_name', 'middle_name', 'last_name',\n",
    "                     'gender',  'birth_date', 'age_at_consultation', \n",
    "                     'age_at_employment','medicare_number', 'street_address', \n",
    "                     'suburb', 'postcode', 'state', \n",
    "                     'phone', 'email', 'marital_status', \n",
    "                     'height', 'weight', 'bmi', \n",
    "                     'blood_pressure', 'cholesterol_level', 'smoking_status', \n",
    "                     'clinical_notes', 'consultation_timestamp', 'education', \n",
    "                     'occupation', 'salary', 'credit_card_number', \n",
    "                     'years_of_experience', 'employment_timestamp']]"
   ]
  },
  {
   "cell_type": "code",
   "execution_count": 8,
   "id": "b6cd83c6-d802-4a1f-a8bc-31f91a226e56",
   "metadata": {},
   "outputs": [],
   "source": [
    "from itertools import combinations\n",
    "\n",
    "# return list of all subsets of length r  \n",
    "def rSubset(arr, r):\n",
    "    return list(combinations(arr, r))\n",
    "    \n",
    "a1='middle_name'\n",
    "a2='phone'\n",
    "a3='email'\n",
    "a4='marital_status'\n",
    "a5='occupation'\n",
    "a6='salary'\n",
    "a7='credit_card_number'\n",
    "\n",
    "arr = [a1, a2, a3, a4, a5, a6, a7]\n",
    "r = 3\n",
    "foo = []\n",
    "for ax3 in rSubset(arr, r):    \n",
    "    foo.append(df_merge.isnull().groupby([a for a in ax3]).size().to_frame())"
   ]
  },
  {
   "cell_type": "code",
   "execution_count": 9,
   "id": "d95d170c-25f1-4efc-863b-0c7cc2edcbf0",
   "metadata": {},
   "outputs": [
    {
     "data": {
      "text/html": [
       "<div>\n",
       "<style scoped>\n",
       "    .dataframe tbody tr th:only-of-type {\n",
       "        vertical-align: middle;\n",
       "    }\n",
       "\n",
       "    .dataframe tbody tr th {\n",
       "        vertical-align: top;\n",
       "    }\n",
       "\n",
       "    .dataframe thead th {\n",
       "        text-align: right;\n",
       "    }\n",
       "</style>\n",
       "<table border=\"1\" class=\"dataframe\">\n",
       "  <thead>\n",
       "    <tr style=\"text-align: right;\">\n",
       "      <th></th>\n",
       "      <th></th>\n",
       "      <th></th>\n",
       "      <th>0</th>\n",
       "    </tr>\n",
       "    <tr>\n",
       "      <th>marital_status</th>\n",
       "      <th>occupation</th>\n",
       "      <th>credit_card_number</th>\n",
       "      <th></th>\n",
       "    </tr>\n",
       "  </thead>\n",
       "  <tbody>\n",
       "    <tr>\n",
       "      <th>False</th>\n",
       "      <th>False</th>\n",
       "      <th>False</th>\n",
       "      <td>13979</td>\n",
       "    </tr>\n",
       "    <tr>\n",
       "      <th rowspan=\"2\" valign=\"top\">True</th>\n",
       "      <th>False</th>\n",
       "      <th>False</th>\n",
       "      <td>721</td>\n",
       "    </tr>\n",
       "    <tr>\n",
       "      <th>True</th>\n",
       "      <th>True</th>\n",
       "      <td>1347</td>\n",
       "    </tr>\n",
       "  </tbody>\n",
       "</table>\n",
       "</div>"
      ],
      "text/plain": [
       "                                                  0\n",
       "marital_status occupation credit_card_number       \n",
       "False          False      False               13979\n",
       "True           False      False                 721\n",
       "               True       True                 1347"
      ]
     },
     "execution_count": 9,
     "metadata": {},
     "output_type": "execute_result"
    }
   ],
   "source": [
    "\"\"\"\n",
    "print results from foo[0] to foo[34] BY HAND\n",
    "\"\"\"\n",
    "foo[32]"
   ]
  },
  {
   "cell_type": "code",
   "execution_count": 10,
   "id": "a4f515d4-2045-4aab-babe-604a5164df49",
   "metadata": {},
   "outputs": [
    {
     "data": {
      "text/plain": [
       "salary            2313\n",
       "marital_status    2068\n",
       "dtype: int64"
      ]
     },
     "execution_count": 10,
     "metadata": {},
     "output_type": "execute_result"
    }
   ],
   "source": [
    "df_merge.isnull().sum().sort_values(ascending=False).head(2)"
   ]
  },
  {
   "cell_type": "code",
   "execution_count": 11,
   "id": "f2d398c8-0d01-47bb-8ec6-d6c2679eef90",
   "metadata": {},
   "outputs": [
    {
     "data": {
      "text/plain": [
       "2375"
      ]
     },
     "execution_count": 11,
     "metadata": {},
     "output_type": "execute_result"
    }
   ],
   "source": [
    "len(df_merge[df_merge.salary == -9999])"
   ]
  },
  {
   "cell_type": "code",
   "execution_count": 12,
   "id": "7c1f3499-35a2-449d-b62b-ca3386388ed0",
   "metadata": {},
   "outputs": [
    {
     "data": {
      "text/plain": [
       "85200.0"
      ]
     },
     "execution_count": 12,
     "metadata": {},
     "output_type": "execute_result"
    }
   ],
   "source": [
    "# This line takes any salary values below 0 and replaces them with NaN\n",
    "df_merge['salary'] = df_merge['salary'].mask(df_merge['salary'].between(-10000, 0))\n",
    "\n",
    "# Find median of salary excluding NaN values\n",
    "df_merge.salary.median(skipna=True)"
   ]
  },
  {
   "cell_type": "code",
   "execution_count": 13,
   "id": "3d7b2cbe-131d-4cf3-8c2c-23294f877e48",
   "metadata": {},
   "outputs": [],
   "source": [
    "df_merge['salary'].fillna(85200, inplace=True)"
   ]
  },
  {
   "cell_type": "code",
   "execution_count": 14,
   "id": "24fe9347-bba7-43f5-a292-32b173f921a0",
   "metadata": {},
   "outputs": [],
   "source": [
    "df_merge['marital_status'].fillna(\"not-specified\", inplace=True)"
   ]
  },
  {
   "cell_type": "code",
   "execution_count": 15,
   "id": "d9cf339e-6955-4568-9230-75a53d653012",
   "metadata": {},
   "outputs": [
    {
     "data": {
      "text/plain": [
       "1585"
      ]
     },
     "execution_count": 15,
     "metadata": {},
     "output_type": "execute_result"
    }
   ],
   "source": [
    "len(df_merge[df_merge.weight < 0])"
   ]
  },
  {
   "cell_type": "code",
   "execution_count": 16,
   "id": "a71f1a16-1801-453d-ad7c-2555e18872d6",
   "metadata": {},
   "outputs": [],
   "source": [
    "# Use bmi and height to calculate the correct weight\n",
    "\n",
    "def weight(row):\n",
    "    if row['weight'] < 0:\n",
    "        row['weight'] = int(round(row['bmi'] * row['height'] * row['height'] / 100 / 100))\n",
    "    return row['weight']\n",
    "\n",
    "df_merge['weight'] = df_merge.apply(lambda row: weight(row), axis=1)"
   ]
  },
  {
   "cell_type": "code",
   "execution_count": 17,
   "id": "b27b0707-c80b-4258-944e-c897c2964d8a",
   "metadata": {},
   "outputs": [
    {
     "data": {
      "text/plain": [
       "185"
      ]
     },
     "execution_count": 17,
     "metadata": {},
     "output_type": "execute_result"
    }
   ],
   "source": [
    "len(df_merge[~df_merge.state.isin(['nt', 'qld', 'nsw', 'sa', 'wa', 'vic', 'tas', 'act'])])"
   ]
  },
  {
   "cell_type": "code",
   "execution_count": 18,
   "id": "023866b5-5f36-4d44-b5fb-2c4228341cff",
   "metadata": {},
   "outputs": [],
   "source": [
    "df_merge.state = df_merge.state.str.lower()\n",
    "\n",
    "# strip the whitespace from suburb\n",
    "df_merge['suburb'] = df_merge['suburb'].str.strip()\n",
    "df_merge['suburb'] = df_merge['suburb'].str.replace('  ', ' ')\n",
    "df_merge['suburb'] = df_merge['suburb'].str.lower()"
   ]
  },
  {
   "cell_type": "code",
   "execution_count": 19,
   "id": "d16a8d41-42dc-4c8e-871e-a241a8474d4d",
   "metadata": {},
   "outputs": [
    {
     "data": {
      "text/plain": [
       "1632"
      ]
     },
     "execution_count": 19,
     "metadata": {},
     "output_type": "execute_result"
    }
   ],
   "source": [
    "df_merge['birth_year'] = pd.DatetimeIndex(df_merge['birth_date']).year \n",
    "df_merge['consultation_year'] = np.int64(df_merge['consultation_timestamp'].str[0:4])\n",
    "len(df_merge[df_merge.age_at_consultation!=df_merge.consultation_year-df_merge.birth_year])"
   ]
  },
  {
   "cell_type": "code",
   "execution_count": 20,
   "id": "73de1817-18df-4a5c-be2a-13663c00a298",
   "metadata": {},
   "outputs": [],
   "source": [
    "df_merge.age_at_consultation = df_merge.consultation_year-df_merge.birth_year"
   ]
  },
  {
   "cell_type": "code",
   "execution_count": 21,
   "id": "3f1b2bcf-cdb3-4673-9e2b-ce667a9e42b4",
   "metadata": {},
   "outputs": [
    {
     "data": {
      "text/plain": [
       "965"
      ]
     },
     "execution_count": 21,
     "metadata": {},
     "output_type": "execute_result"
    }
   ],
   "source": [
    "len(df_merge[abs(df_merge.employment_timestamp.str.split('-', expand=True)[0].astype(int) - df_merge.consultation_timestamp.str.split('-', expand=True)[0].astype(int)) > 7])"
   ]
  },
  {
   "cell_type": "code",
   "execution_count": 22,
   "id": "c4ee6585-0180-40e4-9bfb-f74efb093058",
   "metadata": {},
   "outputs": [],
   "source": [
    "df_merge = df_merge[abs(df_merge.employment_timestamp.str.split('-', expand=True)[0].astype(int) - df_merge.consultation_timestamp.str.split('-', expand=True)[0].astype(int)) <= 7]"
   ]
  },
  {
   "cell_type": "code",
   "execution_count": 23,
   "id": "3547ed05-6e2b-4c90-8e3d-a75553d635dd",
   "metadata": {},
   "outputs": [
    {
     "data": {
      "text/plain": [
       "2535"
      ]
     },
     "execution_count": 23,
     "metadata": {},
     "output_type": "execute_result"
    }
   ],
   "source": [
    "len(df_merge[(df_merge.marital_status!='not-married') & (df_merge.age_at_consultation < 18)])"
   ]
  },
  {
   "cell_type": "code",
   "execution_count": 24,
   "id": "08800eeb-40d2-4cb2-81d6-766ba99a0b65",
   "metadata": {},
   "outputs": [],
   "source": [
    "df_merge.loc[(df_merge.age_at_consultation < 18), 'marital_status'] = 'not-married'"
   ]
  },
  {
   "cell_type": "code",
   "execution_count": 25,
   "id": "adc0c749-488f-4c4d-90a9-d63fd4ab5471",
   "metadata": {},
   "outputs": [
    {
     "data": {
      "text/plain": [
       "443"
      ]
     },
     "execution_count": 25,
     "metadata": {},
     "output_type": "execute_result"
    }
   ],
   "source": [
    "len(df_merge[(~pd.isnull(df_merge.credit_card_number)) & (df_merge.age_at_employment < 18)])"
   ]
  },
  {
   "cell_type": "code",
   "execution_count": 26,
   "id": "d3a075f7-8c36-4211-a233-c488508de59a",
   "metadata": {},
   "outputs": [],
   "source": [
    "df_merge.loc[(df_merge.age_at_employment < 18), 'credit_card_number'] = 'not-available'"
   ]
  },
  {
   "cell_type": "code",
   "execution_count": 27,
   "id": "0c6c4ac8-8088-438a-bbe2-4e3f7c5051cf",
   "metadata": {},
   "outputs": [
    {
     "data": {
      "text/plain": [
       "443"
      ]
     },
     "execution_count": 27,
     "metadata": {},
     "output_type": "execute_result"
    }
   ],
   "source": [
    "len(df_merge[(~pd.isnull(df_merge.occupation)) & (df_merge.age_at_employment < 18)])"
   ]
  },
  {
   "cell_type": "code",
   "execution_count": 28,
   "id": "b1da890f-760d-4d6d-bd37-c73bd1ec4b99",
   "metadata": {},
   "outputs": [],
   "source": [
    "df_merge.loc[(df_merge.age_at_employment < 18), 'occupation'] = 'not-available'"
   ]
  },
  {
   "cell_type": "code",
   "execution_count": 29,
   "id": "589151da-da45-41ef-96a8-7873e7861eac",
   "metadata": {},
   "outputs": [],
   "source": [
    "# Fill in missing phone and email details\n",
    "df_merge['phone'].fillna(\"not-provided\", inplace=True)\n",
    "df_merge['email'].fillna(\"not-provided\", inplace=True)\n",
    "df_merge['middle_name'].fillna(\"not-specified\", inplace=True)\n",
    "\n",
    "df_merge.salary = df_merge.salary.astype('int64')"
   ]
  },
  {
   "cell_type": "code",
   "execution_count": 30,
   "id": "d73c51a4-454f-44a7-80d9-7efd95064ac7",
   "metadata": {},
   "outputs": [],
   "source": [
    "def convert_aqf(object):\n",
    "    if object == 'diploma':\n",
    "        return 5\n",
    "    if object == 'advance-diploma':\n",
    "        return 6\n",
    "    if object == 'certificate-i':\n",
    "        return 1\n",
    "    if object == 'secondary-school':\n",
    "        return 0\n",
    "    if object == 'bachelor-degree':\n",
    "        return 7\n",
    "    if object == 'certificate-iii':\n",
    "        return 3\n",
    "    if object == 'graduate-certificate':\n",
    "        return 8\n",
    "    if object == 'certificate-ii':\n",
    "        return 2\n",
    "    if object == 'graduate-diploma':\n",
    "        return 8\n",
    "    if object == 'senior-secondary-school':\n",
    "        return 0\n",
    "    if object == 'certificate-iv':\n",
    "        return 4\n",
    "    if object == 'masters-degree':\n",
    "        return 9\n",
    "    if object == 'doctoral-degree':\n",
    "        return 10\n",
    "    if object == 'primary-school':\n",
    "        return 0\n",
    "    if object == 'pre-school':\n",
    "        return 0\n",
    "\n",
    "df_merge['education'] = df_merge['education'].apply(convert_aqf)"
   ]
  },
  {
   "cell_type": "code",
   "execution_count": 31,
   "id": "84b7f724-b213-4d51-8a01-7f11f0ed03db",
   "metadata": {},
   "outputs": [],
   "source": [
    "mms = MinMaxScaler()\n",
    "df_merge['salary'] = mms.fit_transform(np.array(df_merge['salary']).reshape(-1,1))"
   ]
  },
  {
   "cell_type": "code",
   "execution_count": 32,
   "id": "0cfcf9ae-9143-407c-b129-0987999f44c0",
   "metadata": {},
   "outputs": [],
   "source": [
    "df_merge.to_csv('data_wrangling_merged_2021_u6828533.csv', index=False)"
   ]
  }
 ],
 "metadata": {
  "kernelspec": {
   "display_name": "Python 3",
   "language": "python",
   "name": "python3"
  },
  "language_info": {
   "codemirror_mode": {
    "name": "ipython",
    "version": 3
   },
   "file_extension": ".py",
   "mimetype": "text/x-python",
   "name": "python",
   "nbconvert_exporter": "python",
   "pygments_lexer": "ipython3",
   "version": "3.9.6"
  }
 },
 "nbformat": 4,
 "nbformat_minor": 5
}
